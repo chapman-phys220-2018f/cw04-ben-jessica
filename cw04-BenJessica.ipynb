{
 "cells": [
  {
   "cell_type": "markdown",
   "metadata": {
    "collapsed": false
   },
   "source": [
    "**Jessica Trawick**"
   ]
  },
  {
   "cell_type": "markdown",
   "metadata": {
    "collapsed": false
   },
   "source": [
    "**Sieve of Eratothenes**\n",
    "The idea is to create a list of all numbers and check all to see if they are divisible by any number other than itself and zero. In this we cut any number that is found as not prime. We do this in our code by starting with a list with 2 in it. Then we add numbers to the list. Then a new function checks the numbers to see if they are divisible by anything. Then a new function calls on the last number in the list and reads it back."
   ]
  },
  {
   "cell_type": "code",
   "execution_count": 0,
   "metadata": {
    "collapsed": false
   },
   "outputs": [
   ],
   "source": [
    "import primes.py\n",
    "primes.eratosthenes(20)\n"
   ]
  },
  {
   "cell_type": "markdown",
   "metadata": {
    "collapsed": false
   },
   "source": [
    "**Benchmarking Implementations**"
   ]
  },
  {
   "cell_type": "code",
   "execution_count": 0,
   "metadata": {
    "collapsed": false
   },
   "outputs": [
   ],
   "source": [
    "import primes\n",
    "%time primes.eratosthenes(1000)"
   ]
  },
  {
   "cell_type": "code",
   "execution_count": 0,
   "metadata": {
    "collapsed": false
   },
   "outputs": [
   ],
   "source": [
    "import primes\n",
    "%time primes.eratosthenes(1000)"
   ]
  },
  {
   "cell_type": "code",
   "execution_count": 0,
   "metadata": {
    "collapsed": false
   },
   "outputs": [
   ],
   "source": [
    "** Generating Prime Numbers**\n",
    "This design helps eliminate the numbers that are nto prime and work over every factor."
   ]
  },
  {
   "cell_type": "code",
   "execution_count": 0,
   "metadata": {
    "collapsed": false
   },
   "outputs": [
   ],
   "source": [
    "def eratosthenes(n):\n",
    "    \"\"\"Verify the number of primes less than 200.\n",
    "    \"\"\"\n",
    "    primes = []\n",
    "    for primes in range(1,n):\n",
    "        primes.append(i)\n",
    "    for i in primes:\n",
    "        for n in primes:\n",
    "            if prime(n)// i= 0:\n",
    "                primes.pop(n)"
   ]
  }
 ],
 "metadata": {
  "kernelspec": {
   "display_name": "Python 3 (Anaconda 5)",
   "language": "python",
   "name": "anaconda5"
  },
  "language_info": {
   "codemirror_mode": {
    "name": "ipython",
    "version": 3
   },
   "file_extension": ".py",
   "mimetype": "text/x-python",
   "name": "python",
   "nbconvert_exporter": "python",
   "pygments_lexer": "ipython3",
   "version": "3.6.5"
  }
 },
 "nbformat": 4,
 "nbformat_minor": 0
}